{
 "cells": [
  {
   "cell_type": "markdown",
   "metadata": {
    "tags": []
   },
   "source": [
    "gamma"
   ]
  },
  {
   "cell_type": "code",
   "execution_count": 5,
   "metadata": {
    "tags": []
   },
   "outputs": [],
   "source": [
    "# -*- coding: utf-8 -*-\n",
    "\"\"\"\n",
    "Created on Tue Oct  3 22:53:01 2023\n",
    "\n",
    "@author: hkpen\n",
    "\"\"\"\n",
    "import numpy as np\n",
    "import json\n",
    "import os\n",
    "import matplotlib.pyplot as plt\n",
    "from matplotlib.pyplot import figure\n",
    "import hdbscan\n",
    "\n",
    "D={}\n",
    "mat_id_list= []\n",
    "sg_number_list=[]\n",
    "formulae_list=[]\n",
    "band_gap_list=[]\n",
    "nelements_list=[]\n",
    "elements_list=[]\n",
    "discovery_route_list=[]\n",
    "formula_anonymous_list=[]\n",
    "exfoliation_energy_list=[]\n",
    "decomposition_energy_list=[]\n",
    "crystal_list=[]\n",
    "point_group_list=[]"
   ]
  },
  {
   "cell_type": "markdown",
   "metadata": {},
   "source": [
    "open and read db file"
   ]
  },
  {
   "cell_type": "code",
   "execution_count": 2,
   "metadata": {
    "tags": []
   },
   "outputs": [],
   "source": [
    "with open('db.json') as f:\n",
    "    for jsonobj in f:\n",
    "        strDict=json.loads(jsonobj)\n",
    "        mat_id_list.append(strDict['material_id'])\n",
    "        sg_number_list.append(strDict['sg_number'])\n",
    "        formulae_list.append(strDict['formula_pretty'])\n",
    "        band_gap_list.append(strDict['bandgap'])\n",
    "        nelements_list.append(strDict['nelements'])\n",
    "        elements_list.append(strDict['elements'])\n",
    "        discovery_route_list.append(strDict['discovery_process'])\n",
    "        formula_anonymous_list.append(strDict['formula_anonymous'])\n",
    "        if 'exfoliation_energy_per_atom' in strDict:\n",
    "            exfoliation_energy_list.append(strDict['exfoliation_energy_per_atom'])\n",
    "        else:\n",
    "            exfoliation_energy_list.append(float(\"nan\"))\n",
    "        if 'decomposition_energy' in strDict:\n",
    "            decomposition_energy_list.append(strDict['decomposition_energy'])\n",
    "        else:\n",
    "            decomposition_energy_list.append(float(\"nan\"))\n",
    "        crystal_list.append(strDict['spacegroup']['crystal_system'])\n",
    "        point_group_list.append(strDict['spacegroup']['point_group'])"
   ]
  },
  {
   "cell_type": "code",
   "execution_count": 3,
   "metadata": {
    "tags": []
   },
   "outputs": [],
   "source": [
    "def calc_gamma_fingerprint(bands_dict, n_bins=32, e_range=[-4, 4]):\n",
    "    band_energies = np.array(bands_dict[\"bands\"][\"1\"]) - bands_dict[\"efermi\"]\n",
    "    band_energies_gamma = band_energies[:, 0]\n",
    "    counts, edges = np.histogram(band_energies_gamma, bins=n_bins, range=e_range)\n",
    "    density = counts / len(band_energies_gamma)\n",
    "    return density"
   ]
  },
  {
   "cell_type": "markdown",
   "metadata": {},
   "source": [
    "read data for each mat"
   ]
  },
  {
   "cell_type": "code",
   "execution_count": null,
   "metadata": {
    "tags": []
   },
   "outputs": [],
   "source": [
    "fingerprint_length = 32\n",
    "fingerprints = []\n",
    "\n",
    "print(len(mat_id_list))\n",
    "\n",
    "for i, name in enumerate(mat_id_list):\n",
    "    \n",
    "    BS_dir= '../FULL_MATPEDIA_DATA/bands/'\n",
    "    filename_bands=BS_dir+name+'.json'\n",
    "    if not os.path.isfile(filename_bands):\n",
    "        print(\"No such file %s\" % filename_bands)\n",
    "        continue\n",
    "    bands_dict=json.load(open(filename_bands))\n",
    "    \n",
    "    fingerprints.append(calc_gamma_fingerprint(bands_dict, n_bins=fingerprint_length))\n",
    "\n",
    "loaded_fingerprints.shape"
   ]
  },
  {
   "cell_type": "code",
   "execution_count": 5,
   "metadata": {
    "tags": []
   },
   "outputs": [],
   "source": [
    "np.savetxt(\"gamma_fingerprints.csv\", fingerprints, delimiter=\",\")"
   ]
  },
  {
   "cell_type": "code",
   "execution_count": 3,
   "metadata": {},
   "outputs": [
    {
     "data": {
      "text/plain": [
       "array([[0.        , 0.        , 0.        , ..., 0.        , 0.        ,\n",
       "        0.        ],\n",
       "       [0.        , 0.        , 0.        , ..., 0.        , 0.        ,\n",
       "        0.03125   ],\n",
       "       [0.        , 0.        , 0.        , ..., 0.01136364, 0.        ,\n",
       "        0.01136364],\n",
       "       ...,\n",
       "       [0.        , 0.        , 0.        , ..., 0.        , 0.03125   ,\n",
       "        0.        ],\n",
       "       [0.        , 0.        , 0.0625    , ..., 0.        , 0.        ,\n",
       "        0.        ],\n",
       "       [0.        , 0.        , 0.        , ..., 0.        , 0.        ,\n",
       "        0.03125   ]])"
      ]
     },
     "execution_count": 3,
     "metadata": {},
     "output_type": "execute_result"
    }
   ],
   "source": [
    "loaded_fingerprints = np.genfromtxt(\"gamma_fingerprints.csv\", delimiter=\",\")\n",
    "loaded_fingerprints"
   ]
  },
  {
   "cell_type": "markdown",
   "metadata": {},
   "source": [
    "## Clustering with Hdbscan"
   ]
  },
  {
   "cell_type": "code",
   "execution_count": 14,
   "metadata": {},
   "outputs": [],
   "source": [
    "clusterer = hdbscan.HDBSCAN()"
   ]
  },
  {
   "cell_type": "code",
   "execution_count": 16,
   "metadata": {},
   "outputs": [
    {
     "data": {
      "text/html": [
       "<style>#sk-container-id-1 {color: black;}#sk-container-id-1 pre{padding: 0;}#sk-container-id-1 div.sk-toggleable {background-color: white;}#sk-container-id-1 label.sk-toggleable__label {cursor: pointer;display: block;width: 100%;margin-bottom: 0;padding: 0.3em;box-sizing: border-box;text-align: center;}#sk-container-id-1 label.sk-toggleable__label-arrow:before {content: \"▸\";float: left;margin-right: 0.25em;color: #696969;}#sk-container-id-1 label.sk-toggleable__label-arrow:hover:before {color: black;}#sk-container-id-1 div.sk-estimator:hover label.sk-toggleable__label-arrow:before {color: black;}#sk-container-id-1 div.sk-toggleable__content {max-height: 0;max-width: 0;overflow: hidden;text-align: left;background-color: #f0f8ff;}#sk-container-id-1 div.sk-toggleable__content pre {margin: 0.2em;color: black;border-radius: 0.25em;background-color: #f0f8ff;}#sk-container-id-1 input.sk-toggleable__control:checked~div.sk-toggleable__content {max-height: 200px;max-width: 100%;overflow: auto;}#sk-container-id-1 input.sk-toggleable__control:checked~label.sk-toggleable__label-arrow:before {content: \"▾\";}#sk-container-id-1 div.sk-estimator input.sk-toggleable__control:checked~label.sk-toggleable__label {background-color: #d4ebff;}#sk-container-id-1 div.sk-label input.sk-toggleable__control:checked~label.sk-toggleable__label {background-color: #d4ebff;}#sk-container-id-1 input.sk-hidden--visually {border: 0;clip: rect(1px 1px 1px 1px);clip: rect(1px, 1px, 1px, 1px);height: 1px;margin: -1px;overflow: hidden;padding: 0;position: absolute;width: 1px;}#sk-container-id-1 div.sk-estimator {font-family: monospace;background-color: #f0f8ff;border: 1px dotted black;border-radius: 0.25em;box-sizing: border-box;margin-bottom: 0.5em;}#sk-container-id-1 div.sk-estimator:hover {background-color: #d4ebff;}#sk-container-id-1 div.sk-parallel-item::after {content: \"\";width: 100%;border-bottom: 1px solid gray;flex-grow: 1;}#sk-container-id-1 div.sk-label:hover label.sk-toggleable__label {background-color: #d4ebff;}#sk-container-id-1 div.sk-serial::before {content: \"\";position: absolute;border-left: 1px solid gray;box-sizing: border-box;top: 0;bottom: 0;left: 50%;z-index: 0;}#sk-container-id-1 div.sk-serial {display: flex;flex-direction: column;align-items: center;background-color: white;padding-right: 0.2em;padding-left: 0.2em;position: relative;}#sk-container-id-1 div.sk-item {position: relative;z-index: 1;}#sk-container-id-1 div.sk-parallel {display: flex;align-items: stretch;justify-content: center;background-color: white;position: relative;}#sk-container-id-1 div.sk-item::before, #sk-container-id-1 div.sk-parallel-item::before {content: \"\";position: absolute;border-left: 1px solid gray;box-sizing: border-box;top: 0;bottom: 0;left: 50%;z-index: -1;}#sk-container-id-1 div.sk-parallel-item {display: flex;flex-direction: column;z-index: 1;position: relative;background-color: white;}#sk-container-id-1 div.sk-parallel-item:first-child::after {align-self: flex-end;width: 50%;}#sk-container-id-1 div.sk-parallel-item:last-child::after {align-self: flex-start;width: 50%;}#sk-container-id-1 div.sk-parallel-item:only-child::after {width: 0;}#sk-container-id-1 div.sk-dashed-wrapped {border: 1px dashed gray;margin: 0 0.4em 0.5em 0.4em;box-sizing: border-box;padding-bottom: 0.4em;background-color: white;}#sk-container-id-1 div.sk-label label {font-family: monospace;font-weight: bold;display: inline-block;line-height: 1.2em;}#sk-container-id-1 div.sk-label-container {text-align: center;}#sk-container-id-1 div.sk-container {/* jupyter's `normalize.less` sets `[hidden] { display: none; }` but bootstrap.min.css set `[hidden] { display: none !important; }` so we also need the `!important` here to be able to override the default hidden behavior on the sphinx rendered scikit-learn.org. See: https://github.com/scikit-learn/scikit-learn/issues/21755 */display: inline-block !important;position: relative;}#sk-container-id-1 div.sk-text-repr-fallback {display: none;}</style><div id=\"sk-container-id-1\" class=\"sk-top-container\"><div class=\"sk-text-repr-fallback\"><pre>HDBSCAN()</pre><b>In a Jupyter environment, please rerun this cell to show the HTML representation or trust the notebook. <br />On GitHub, the HTML representation is unable to render, please try loading this page with nbviewer.org.</b></div><div class=\"sk-container\" hidden><div class=\"sk-item\"><div class=\"sk-estimator sk-toggleable\"><input class=\"sk-toggleable__control sk-hidden--visually\" id=\"sk-estimator-id-1\" type=\"checkbox\" checked><label for=\"sk-estimator-id-1\" class=\"sk-toggleable__label sk-toggleable__label-arrow\">HDBSCAN</label><div class=\"sk-toggleable__content\"><pre>HDBSCAN()</pre></div></div></div></div></div>"
      ],
      "text/plain": [
       "HDBSCAN()"
      ]
     },
     "execution_count": 16,
     "metadata": {},
     "output_type": "execute_result"
    }
   ],
   "source": [
    "clusterer.fit(loaded_fingerprints)"
   ]
  },
  {
   "cell_type": "code",
   "execution_count": 25,
   "metadata": {},
   "outputs": [
    {
     "data": {
      "text/plain": [
       "(array([-1, -1,  2, ..., -1, -1, -1]),\n",
       " (array([-1,  0,  1,  2]), array([4031,    5,    6, 1237])))"
      ]
     },
     "execution_count": 25,
     "metadata": {},
     "output_type": "execute_result"
    }
   ],
   "source": [
    "clusterer.labels_, np.unique(clusterer.labels_, return_counts=True)"
   ]
  },
  {
   "cell_type": "markdown",
   "metadata": {},
   "source": [
    "### Trying a number of metrics"
   ]
  },
  {
   "cell_type": "code",
   "execution_count": 26,
   "metadata": {},
   "outputs": [
    {
     "data": {
      "text/plain": [
       "{'euclidean': hdbscan.dist_metrics.EuclideanDistance,\n",
       " 'l2': hdbscan.dist_metrics.EuclideanDistance,\n",
       " 'minkowski': hdbscan.dist_metrics.MinkowskiDistance,\n",
       " 'p': hdbscan.dist_metrics.MinkowskiDistance,\n",
       " 'manhattan': hdbscan.dist_metrics.ManhattanDistance,\n",
       " 'cityblock': hdbscan.dist_metrics.ManhattanDistance,\n",
       " 'l1': hdbscan.dist_metrics.ManhattanDistance,\n",
       " 'chebyshev': hdbscan.dist_metrics.ChebyshevDistance,\n",
       " 'infinity': hdbscan.dist_metrics.ChebyshevDistance,\n",
       " 'seuclidean': hdbscan.dist_metrics.SEuclideanDistance,\n",
       " 'mahalanobis': hdbscan.dist_metrics.MahalanobisDistance,\n",
       " 'wminkowski': hdbscan.dist_metrics.WMinkowskiDistance,\n",
       " 'hamming': hdbscan.dist_metrics.HammingDistance,\n",
       " 'canberra': hdbscan.dist_metrics.CanberraDistance,\n",
       " 'braycurtis': hdbscan.dist_metrics.BrayCurtisDistance,\n",
       " 'matching': hdbscan.dist_metrics.MatchingDistance,\n",
       " 'jaccard': hdbscan.dist_metrics.JaccardDistance,\n",
       " 'dice': hdbscan.dist_metrics.DiceDistance,\n",
       " 'kulsinski': hdbscan.dist_metrics.KulsinskiDistance,\n",
       " 'rogerstanimoto': hdbscan.dist_metrics.RogersTanimotoDistance,\n",
       " 'russellrao': hdbscan.dist_metrics.RussellRaoDistance,\n",
       " 'sokalmichener': hdbscan.dist_metrics.SokalMichenerDistance,\n",
       " 'sokalsneath': hdbscan.dist_metrics.SokalSneathDistance,\n",
       " 'haversine': hdbscan.dist_metrics.HaversineDistance,\n",
       " 'cosine': hdbscan.dist_metrics.ArccosDistance,\n",
       " 'arccos': hdbscan.dist_metrics.ArccosDistance,\n",
       " 'pyfunc': hdbscan.dist_metrics.PyFuncDistance}"
      ]
     },
     "execution_count": 26,
     "metadata": {},
     "output_type": "execute_result"
    }
   ],
   "source": [
    "hdbscan.dist_metrics.METRIC_MAPPING"
   ]
  },
  {
   "cell_type": "code",
   "execution_count": 41,
   "metadata": {},
   "outputs": [
    {
     "name": "stdout",
     "output_type": "stream",
     "text": [
      "euclidean\n",
      "(array([-1,  0,  1,  2]), array([4031,    5,    6, 1237]))\n",
      " \n",
      "l2\n",
      "(array([-1,  0,  1,  2]), array([4031,    5,    6, 1237]))\n",
      " \n",
      "p\n",
      "(array([-1,  0,  1,  2]), array([4031,    5,    6, 1237]))\n",
      " \n",
      "manhattan\n",
      "(array([-1,  0,  1]), array([4645,    7,  627]))\n",
      " \n",
      "cityblock\n",
      "(array([-1,  0,  1]), array([4645,    7,  627]))\n",
      " \n",
      "l1\n",
      "(array([-1,  0,  1]), array([4645,    7,  627]))\n",
      " \n",
      "chebyshev\n",
      "(array([-1,  0,  1,  2,  3,  4]), array([2305,    8,   11,   10,    5, 2940]))\n",
      " \n",
      "infinity\n",
      "(array([-1,  0,  1,  2,  3,  4]), array([2305,    8,   11,   10,    5, 2940]))\n",
      " \n",
      "hamming\n",
      "(array([-1,  0,  1,  2]), array([ 470,   21, 4782,    6]))\n",
      " \n",
      "canberra\n",
      "(array([-1,  0,  1]), array([1273,   31, 3975]))\n",
      " \n",
      "braycurtis\n",
      "(array([-1,  0,  1,  2,  3,  4]), array([3798,    6,   10,    7,   12, 1446]))\n",
      " \n",
      "matching\n",
      "(array([-1,  0,  1,  2,  3,  4,  5,  6,  7,  8,  9, 10, 11, 12, 13, 14, 15,\n",
      "       16, 17, 18, 19, 20, 21, 22, 23, 24, 25, 26, 27, 28, 29, 30, 31, 32,\n",
      "       33, 34, 35, 36, 37, 38, 39, 40, 41, 42, 43, 44, 45, 46, 47, 48, 49,\n",
      "       50, 51, 52, 53, 54, 55, 56, 57, 58, 59, 60, 61, 62, 63, 64, 65, 66,\n",
      "       67, 68, 69]), array([ 146,    5,    7,    6,    7,   20,   21,   27,   13,   49,    5,\n",
      "         13,   72,   19,    7,   69,   11,   14,   11,   10,   86,   26,\n",
      "          5,  129,    9,   32,    9,  175,   11,   51,  217,   12,    6,\n",
      "         63,    9,    6,  194,    5,   14,   39,   16,    9,    5,  273,\n",
      "         16,    7,   72,   21,  299,   28,   98,    9,  303,   26,  110,\n",
      "        288,   10,   13,   11,   55,   15,   11,   23,  288,   12,   14,\n",
      "         54,   16,   11, 1514,   22]))\n",
      " \n",
      "jaccard\n",
      "(array([-1,  0,  1,  2,  3,  4,  5,  6,  7,  8,  9, 10, 11, 12]), array([5153,    6,    5,    7,    5,    7,    5,    5,    5,    5,   16,\n",
      "         41,    7,   12]))\n",
      " \n",
      "dice\n",
      "(array([-1,  0,  1,  2,  3,  4,  5,  6,  7,  8,  9, 10, 11, 12]), array([5153,    6,    5,    7,    5,    7,    5,    5,    5,    5,   16,\n",
      "         41,    7,   12]))\n",
      " \n",
      "rogerstanimoto\n",
      "(array([-1,  0,  1,  2,  3,  4,  5,  6,  7,  8,  9, 10, 11, 12, 13, 14, 15,\n",
      "       16, 17, 18, 19, 20, 21, 22, 23, 24, 25, 26, 27, 28, 29, 30]), array([4939,    6,    5,    5,    5,    6,    5,    5,    6,    8,    5,\n",
      "          5,    5,   15,   11,    9,    5,    7,    5,   16,    9,   11,\n",
      "          5,    5,    6,   24,    5,    5,    5,  102,   17,   12]))\n",
      " \n",
      "russellrao\n",
      "(array([-1]), array([5279]))\n",
      " \n",
      "sokalmichener\n",
      "(array([-1,  0,  1,  2,  3,  4,  5,  6,  7,  8,  9, 10, 11, 12, 13, 14, 15,\n",
      "       16, 17, 18, 19, 20, 21, 22, 23, 24, 25, 26, 27, 28, 29, 30]), array([4939,    6,    5,    5,    5,    6,    5,    5,    6,    8,    5,\n",
      "          5,    5,   15,   11,    9,    5,    7,    5,   16,    9,   11,\n",
      "          5,    5,    6,   24,    5,    5,    5,  102,   17,   12]))\n",
      " \n",
      "sokalsneath\n",
      "(array([-1,  0,  1,  2,  3,  4,  5,  6,  7,  8,  9, 10, 11, 12]), array([5153,    6,    5,    7,    5,    7,    5,    5,    5,    5,   16,\n",
      "         41,    7,   12]))\n",
      " \n"
     ]
    }
   ],
   "source": [
    "awkward_metrics = [\"minkowski\", \"seuclidean\", \"mahalanobis\", \"wminkowski\", \"kulsinski\", \"haversine\", \"cosine\", \"arccos\", \"pyfunc\"]\n",
    "\n",
    "for metric in hdbscan.dist_metrics.METRIC_MAPPING:\n",
    "    if metric in awkward_metrics:\n",
    "        continue\n",
    "\n",
    "    print(metric)\n",
    "    clusterer = hdbscan.HDBSCAN(metric=metric)\n",
    "    clusterer.fit(loaded_fingerprints)\n",
    "    print(np.unique(clusterer.labels_, return_counts=True))\n",
    "    print(\" \")"
   ]
  },
  {
   "cell_type": "code",
   "execution_count": null,
   "metadata": {},
   "outputs": [],
   "source": []
  }
 ],
 "metadata": {
  "kernelspec": {
   "display_name": "Python 3 (ipykernel)",
   "language": "python",
   "name": "python3"
  },
  "language_info": {
   "codemirror_mode": {
    "name": "ipython",
    "version": 3
   },
   "file_extension": ".py",
   "mimetype": "text/x-python",
   "name": "python",
   "nbconvert_exporter": "python",
   "pygments_lexer": "ipython3",
   "version": "3.12.0"
  }
 },
 "nbformat": 4,
 "nbformat_minor": 4
}
